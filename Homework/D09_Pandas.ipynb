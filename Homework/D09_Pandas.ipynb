{
 "cells": [
  {
   "cell_type": "code",
   "execution_count": 1,
   "metadata": {},
   "outputs": [],
   "source": [
    "import numpy as np\n",
    "import pandas as pd"
   ]
  },
  {
   "cell_type": "code",
   "execution_count": 2,
   "metadata": {},
   "outputs": [
    {
     "name": "stdout",
     "output_type": "stream",
     "text": [
      "   Apples  Bananas\n",
      "0      30       21\n",
      "            Apples  Bananas\n",
      "2017 Sales      35       21\n",
      "2018 Sales      41       34\n"
     ]
    }
   ],
   "source": [
    "D=pd.DataFrame([[30,21]], columns=['Apples','Bananas'])\n",
    "print(D)\n",
    "E=pd.DataFrame([[35,21],[41,34]], index=['2017 Sales','2018 Sales'], columns=['Apples','Bananas'])\n",
    "print(E)"
   ]
  },
  {
   "cell_type": "code",
   "execution_count": 3,
   "metadata": {},
   "outputs": [
    {
     "name": "stdout",
     "output_type": "stream",
     "text": [
      "     city  visitor weekday\n",
      "0  Austin      139     Sun\n",
      "1  Dallas      237     Sun\n",
      "2  Austin      139     Mon\n",
      "3  Dallas      456     Mon\n"
     ]
    }
   ],
   "source": [
    "F=pd.DataFrame({\n",
    "    'city':['Austin','Dallas','Austin','Dallas'],\n",
    "    'visitor':[139,237,139,456],\n",
    "    'weekday':['Sun','Sun','Mon','Mon']  \n",
    "})\n",
    "print(F)"
   ]
  },
  {
   "cell_type": "code",
   "execution_count": 4,
   "metadata": {},
   "outputs": [
    {
     "name": "stdout",
     "output_type": "stream",
     "text": [
      "Average of Sun is 188.0\n",
      "Average of Mon is 297.5\n"
     ]
    }
   ],
   "source": [
    "R=F.groupby('weekday').get_group('Sun')\n",
    "G=R['visitor'].mean()\n",
    "print('Average of Sun is',G)\n",
    "T=F.groupby('weekday').get_group('Mon')\n",
    "W=T['visitor'].mean()\n",
    "print('Average of Mon is',W)"
   ]
  },
  {
   "cell_type": "code",
   "execution_count": null,
   "metadata": {},
   "outputs": [],
   "source": []
  }
 ],
 "metadata": {
  "kernelspec": {
   "display_name": "Python 3",
   "language": "python",
   "name": "python3"
  },
  "language_info": {
   "codemirror_mode": {
    "name": "ipython",
    "version": 3
   },
   "file_extension": ".py",
   "mimetype": "text/x-python",
   "name": "python",
   "nbconvert_exporter": "python",
   "pygments_lexer": "ipython3",
   "version": "3.8.5"
  }
 },
 "nbformat": 4,
 "nbformat_minor": 4
}
