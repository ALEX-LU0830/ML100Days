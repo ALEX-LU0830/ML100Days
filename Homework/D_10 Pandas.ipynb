{
 "cells": [
  {
   "cell_type": "code",
   "execution_count": 41,
   "metadata": {},
   "outputs": [],
   "source": [
    "import pandas as pd\n",
    "import numpy as np"
   ]
  },
  {
   "cell_type": "code",
   "execution_count": 52,
   "metadata": {},
   "outputs": [
    {
     "name": "stdout",
     "output_type": "stream",
     "text": [
      "1\n",
      "A    1\n",
      "B    2\n",
      "Name: a, dtype: int64\n",
      "a    1\n",
      "b    4\n",
      "Name: A, dtype: int64\n",
      "    A   B   C\n",
      "a   1   2   3\n",
      "b   4   5   6\n",
      "c   7   8   9\n",
      "d  10  11  12\n",
      "e  13  14  15\n"
     ]
    }
   ],
   "source": [
    "# 1.   [簡答題] 請問下列四種不同的 DataFrame 選取結果有什麼差異？\n",
    "df = pd.DataFrame([[1, 2, 3], [4, 5, 6],[7,8,9],[10,11,12],[13,14,15]], index=['a','b','c','d','e'], columns=['A', 'B', 'C'])\n",
    "print(df.loc['a','A'])\n",
    "print(df.loc['a', ['A', 'B']])\n",
    "print(df.loc['a':'b','A'])\n",
    "print(df.loc['a':'e','A':'C'])\n",
    "#same as below statements\n",
    "#df.loc[ '2013-01-01', 'A'] \n",
    "#df.loc[ '2013-01-01', ['A', 'B'] ] \n",
    "#df.loc[ '2013-01-01':'2013-01-02', 'A' ] \n",
    "#df.loc[ '2013-01-01':'2013-01-05', 'A':'C'] "
   ]
  },
  {
   "cell_type": "code",
   "execution_count": 71,
   "metadata": {},
   "outputs": [
    {
     "name": "stdout",
     "output_type": "stream",
     "text": [
      "       col1      col2      col3\n",
      "0  0.628008  1.270453 -0.379751\n",
      "1  0.550412  0.545703  0.549625\n",
      "2  0.983438 -1.288412 -0.141346\n",
      "3 -0.376120 -1.529861  0.213028\n",
      "4  0.421186 -0.194208 -0.406871\n",
      "5 -0.809017  1.696453  1.125713\n",
      "       col1      col2      col3\n",
      "0  0.628008  1.270453 -0.379751\n",
      "1  0.550412  0.545703  0.549625\n",
      "2  0.983438 -1.288412 -0.141346\n",
      "       col1      col2      col3\n",
      "1  0.550412  0.545703  0.549625\n",
      "3 -0.376120 -1.529861  0.213028\n",
      "5 -0.809017  1.696453  1.125713\n",
      "       col2      col3\n",
      "0  1.270453 -0.379751\n",
      "1  0.545703  0.549625\n",
      "2 -1.288412 -0.141346\n",
      "3 -1.529861  0.213028\n",
      "4 -0.194208 -0.406871\n",
      "5  1.696453  1.125713\n",
      "       col2\n",
      "0  1.270453\n",
      "2 -1.288412\n",
      "4 -0.194208\n"
     ]
    }
   ],
   "source": [
    "# 2.   請根據提供的資料，選擇出下列的要求：\n",
    "# - select the first 3 rows.\n",
    "# - select the odd rows. (index = 1, 3, 5)\n",
    "# - select the last 2 columns.\n",
    "# - select the even columns. (index = 0, 2, 4)\n",
    "\n",
    "df = pd.DataFrame(np.random.randn(6,3),columns=['col1','col2','col3'])\n",
    "print(df)\n",
    "print(df.iloc[:3])\n",
    "print(df.iloc[1:6:2])\n",
    "print(df.iloc[:,1:3])\n",
    "print(df.iloc[0:5:2,1:2])"
   ]
  },
  {
   "cell_type": "code",
   "execution_count": 98,
   "metadata": {},
   "outputs": [
    {
     "name": "stdout",
     "output_type": "stream",
     "text": [
      "     0   1   2   3\n",
      "0   32  19  25  24\n",
      "1   12  11  15  24\n",
      "2   31  16  38  33\n",
      "3   25  14  11  23\n",
      "4   21  15  35  24\n",
      "5   18  27  26  27\n",
      "6   26  17  10  23\n",
      "7   15  36  25  21\n",
      "8   25  32  27  24\n",
      "9   24  12  32  33\n",
      "10  11  32  26  15\n",
      "11  36  30  25  15\n",
      "12  35  11  17  33\n",
      "13  19  39  18  39\n",
      "14  28  23  16  14\n",
      "     0   1   2   3\n",
      "0   32  19  25  24\n",
      "2   31  16  38  33\n",
      "3   25  14  11  23\n",
      "4   21  15  35  24\n",
      "6   26  17  10  23\n",
      "8   25  32  27  24\n",
      "9   24  12  32  33\n",
      "11  36  30  25  15\n",
      "12  35  11  17  33\n",
      "14  28  23  16  14\n",
      "     0   1   2   3\n",
      "0   32  19  25  24\n",
      "7   15  36  25  21\n",
      "8   25  32  27  24\n",
      "11  36  30  25  15\n",
      "13  19  39  18  39\n",
      "14  28  23  16  14\n",
      "     0   1   2   3\n",
      "1   12  11  15  24\n",
      "3   25  14  11  23\n",
      "4   21  15  35  24\n",
      "5   18  27  26  27\n",
      "6   26  17  10  23\n",
      "7   15  36  25  21\n",
      "8   25  32  27  24\n",
      "9   24  12  32  33\n",
      "10  11  32  26  15\n",
      "13  19  39  18  39\n",
      "14  28  23  16  14\n",
      "     0   1   2   3\n",
      "2   31  16  38  33\n",
      "8   25  32  27  24\n",
      "9   24  12  32  33\n",
      "11  36  30  25  15\n",
      "13  19  39  18  39\n"
     ]
    }
   ],
   "source": [
    "# 3.   請根據提供的資料，選擇出下列的要求：\n",
    "# - 1. filtered by first column > 20?\n",
    "# - 2. filtered by first column + second column > 50\n",
    "# - 3. filtered by first column < 30 or second column > 30\n",
    "# - 4. filtered by total sum of row > 100\n",
    "\n",
    "df1 = pd.DataFrame(np.random.randint(10, 40, 60).reshape(-1, 4))\n",
    "print(df1)\n",
    "print(df1[df1[0]>20])\n",
    "print(df1[df1[0]+df1[1]>50])\n",
    "print(df1[(df1[0]<30) | (df1[1]>30)])\n",
    "print(df1[df1.sum(axis=1)>100])"
   ]
  }
 ],
 "metadata": {
  "kernelspec": {
   "display_name": "Python 3",
   "language": "python",
   "name": "python3"
  },
  "language_info": {
   "codemirror_mode": {
    "name": "ipython",
    "version": 3
   },
   "file_extension": ".py",
   "mimetype": "text/x-python",
   "name": "python",
   "nbconvert_exporter": "python",
   "pygments_lexer": "ipython3",
   "version": "3.8.5"
  }
 },
 "nbformat": 4,
 "nbformat_minor": 4
}
