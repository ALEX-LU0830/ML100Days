{
 "cells": [
  {
   "cell_type": "code",
   "execution_count": 1,
   "metadata": {},
   "outputs": [],
   "source": [
    "import numpy as np "
   ]
  },
  {
   "cell_type": "code",
   "execution_count": 20,
   "metadata": {},
   "outputs": [
    {
     "name": "stdout",
     "output_type": "stream",
     "text": [
      "分貝數為： 60.0 分貝\n"
     ]
    }
   ],
   "source": [
    "#1.正常的談話的聲壓為20000微巴斯卡，請問多少分貝?\n",
    "#請寫下程式\n",
    "V1 = 20000\n",
    "V0 = 20\n",
    "Gdb=20*np.log10(V1/V0)\n",
    "print('分貝數為：',(Gdb),'分貝')"
   ]
  },
  {
   "cell_type": "code",
   "execution_count": 19,
   "metadata": {},
   "outputs": [
    {
     "name": "stdout",
     "output_type": "stream",
     "text": [
      "微巴斯卡在30分貝為 632.4555320336758\n",
      "微巴斯卡在50分貝為 6324.555320336759\n",
      "30分貝的聲壓是50分貝的 0.09999999999999999 倍\n"
     ]
    }
   ],
   "source": [
    "#2.30分貝的聲壓會是50分貝的幾倍?\n",
    "#公式移項過後可以得到 V1 = ?\n",
    "#請寫下程式, V0=20\n",
    "Gdb=30\n",
    "V2=(10**(Gdb/20))*20 \n",
    "print('微巴斯卡在30分貝為',(V2))\n",
    "Gdb=50\n",
    "V3=(10**(Gdb/20))*20 \n",
    "print('微巴斯卡在50分貝為',(V3))\n",
    "print('30分貝的聲壓是50分貝的',(V2/V3),'倍')"
   ]
  }
 ],
 "metadata": {
  "kernelspec": {
   "display_name": "Python 3",
   "language": "python",
   "name": "python3"
  },
  "language_info": {
   "codemirror_mode": {
    "name": "ipython",
    "version": 3
   },
   "file_extension": ".py",
   "mimetype": "text/x-python",
   "name": "python",
   "nbconvert_exporter": "python",
   "pygments_lexer": "ipython3",
   "version": "3.8.5"
  }
 },
 "nbformat": 4,
 "nbformat_minor": 4
}
