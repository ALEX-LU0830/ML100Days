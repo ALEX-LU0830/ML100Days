{
 "cells": [
  {
   "cell_type": "code",
   "execution_count": null,
   "metadata": {},
   "outputs": [],
   "source": [
    "## 1.在速度較慢的時候，可以先從哪邊開始檢查？\n",
    "可以先從有進行運算或是使用函式的地方檢查，看是否有程式碼多餘的部分或是可以使用內建的函式庫來減少運算的複雜進而提升效率。\n",
    "## 2.資料過大時應採取什麼方式讓記憶體占用量下降？\n",
    "可以改變資料的型態分降低記憶體的使用空間，例如可以將int改成uint；float64可以變成float32，這樣都可以讓資料的大小變小。"
   ]
  }
 ],
 "metadata": {
  "kernelspec": {
   "display_name": "Python 3",
   "language": "python",
   "name": "python3"
  },
  "language_info": {
   "codemirror_mode": {
    "name": "ipython",
    "version": 3
   },
   "file_extension": ".py",
   "mimetype": "text/x-python",
   "name": "python",
   "nbconvert_exporter": "python",
   "pygments_lexer": "ipython3",
   "version": "3.8.5"
  }
 },
 "nbformat": 4,
 "nbformat_minor": 4
}
