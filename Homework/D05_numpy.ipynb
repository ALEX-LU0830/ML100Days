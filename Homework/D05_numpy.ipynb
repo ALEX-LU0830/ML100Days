{
 "cells": [
  {
   "cell_type": "code",
   "execution_count": 26,
   "metadata": {},
   "outputs": [
    {
     "name": "stdout",
     "output_type": "stream",
     "text": [
      "英文成績中無 nan，平均值為： 67.16666666666667\n",
      "英文成績中無 nan，最大值為： 89\n",
      "英文成績中無 nan，最小值為： 48\n",
      "英文成績中無 nan，標準差為： 13.433995020924426\n"
     ]
    }
   ],
   "source": [
    "import numpy as np\n",
    "english_score = np.array([55,89,76,65,48,70])\n",
    "math_score = np.array([60,85,60,68,np.nan,60])\n",
    "chinese_score = np.array([65,90,82,72,66,77])\n",
    "if not np.isnan(np.sum(english_score)):\n",
    "    print(\"英文成績中無 nan，平均值為：\", np.mean(english_score))\n",
    "    print(\"英文成績中無 nan，最大值為：\", np.amax(english_score))\n",
    "    print(\"英文成績中無 nan，最小值為：\", np.amin(english_score))\n",
    "    print(\"英文成績中無 nan，標準差為：\", np.std(english_score))\n",
    "else:\n",
    "    print(\"英文成績中有 nan，忽略 nan 後平均值為：\", np.nanmean(english_score))\n",
    "    print(\"英文成績中有 nan，忽略 nan 後最大值為：\", np.nanmax(english_score))\n",
    "    print(\"英文成績中有 nan，忽略 nan 後最小值為：\", np.nanmin(english_score))\n",
    "    print(\"英文成績中有 nan，標準差為：\", np.nanstd(english_score))"
   ]
  },
  {
   "cell_type": "code",
   "execution_count": 27,
   "metadata": {},
   "outputs": [
    {
     "name": "stdout",
     "output_type": "stream",
     "text": [
      "數學成績中有 nan，忽略 nan 後平均值為： 66.6\n",
      "數學成績中有 nan，忽略 nan 後最大值為： 85.0\n",
      "數學成績中有 nan，忽略 nan 後最小值為： 60.0\n",
      "數學成績中有 nan，標準差為： 9.707728879609279\n"
     ]
    }
   ],
   "source": [
    "if not np.isnan(np.sum(math_score)):\n",
    "    print(\"數學成績中無 nan，平均值為：\", np.mean(math_score))\n",
    "    print(\"數學成績中無 nan，最大值為：\", np.amax(math_score))\n",
    "    print(\"數學成績中無 nan，最小值為：\", np.amin(math_score))\n",
    "    print(\"數學成績中無 nan，標準差為：\", np.std(math_score))\n",
    "else:\n",
    "    print(\"數學成績中有 nan，忽略 nan 後平均值為：\", np.nanmean(math_score))\n",
    "    print(\"數學成績中有 nan，忽略 nan 後最大值為：\", np.nanmax(math_score))\n",
    "    print(\"數學成績中有 nan，忽略 nan 後最小值為：\", np.nanmin(math_score))\n",
    "    print(\"數學成績中有 nan，標準差為：\", np.nanstd(math_score))"
   ]
  },
  {
   "cell_type": "code",
   "execution_count": 24,
   "metadata": {},
   "outputs": [
    {
     "name": "stdout",
     "output_type": "stream",
     "text": [
      "中文成績中無 nan，平均值為： 75.33333333333333\n",
      "中文成績中無 nan，最大值為： 90\n",
      "中文成績中無 nan，最小值為： 65\n",
      "中文成績中無 nan，標準差為： 8.825468196582484\n"
     ]
    }
   ],
   "source": [
    "if not np.isnan(np.sum(chinese_score)):\n",
    "    print(\"中文成績中無 nan，平均值為：\", np.mean(chinese_score))\n",
    "    print(\"中文成績中無 nan，最大值為：\", np.amax(chinese_score))\n",
    "    print(\"中文成績中無 nan，最小值為：\", np.amin(chinese_score))\n",
    "    print(\"中文成績中無 nan，標準差為：\", np.std(chinese_score))\n",
    "else:\n",
    "    print(\"中文成績中有 nan，忽略 nan 後平均值為：\", np.nanmean(chinese_score))\n",
    "    print(\"中文成績中有 nan，忽略 nan 後最大值為：\", np.nanmax(chinese_score))\n",
    "    print(\"中文成績中有 nan，忽略 nan 後最小值為：\", np.nanmin(chinese_score))\n",
    "    print(\"中文成績中有 nan，標準差為：\", np.nanstd(chinese_score))"
   ]
  },
  {
   "cell_type": "code",
   "execution_count": 29,
   "metadata": {},
   "outputs": [
    {
     "name": "stdout",
     "output_type": "stream",
     "text": [
      "數學成績中無 nan，平均值為： 64.66666666666667\n",
      "數學成績中無 nan，最大值為： 85\n",
      "數學成績中無 nan，最小值為： 55\n",
      "數學成績中無 nan，標準差為： 9.860132971832694\n"
     ]
    }
   ],
   "source": [
    "new_math_score= np.array([60,85,60,68,55,60])\n",
    "if not np.isnan(np.sum(new_math_score)):\n",
    "    print(\"數學成績中無 nan，平均值為：\", np.mean(new_math_score))\n",
    "    print(\"數學成績中無 nan，最大值為：\", np.amax(new_math_score))\n",
    "    print(\"數學成績中無 nan，最小值為：\", np.amin(new_math_score))\n",
    "    print(\"數學成績中無 nan，標準差為：\", np.std(new_math_score))\n",
    "else:\n",
    "    print(\"數學成績中有 nan，忽略 nan 後平均值為：\", np.nanmean(new_math_score))\n",
    "    print(\"數學成績中有 nan，忽略 nan 後最大值為：\", np.nanmax(new_math_score))\n",
    "    print(\"數學成績中有 nan，忽略 nan 後最小值為：\", np.nanmin(new_math_score))\n",
    "    print(\"數學成績中有 nan，標準差為：\", np.nanstd(new_math_score))"
   ]
  },
  {
   "cell_type": "code",
   "execution_count": 34,
   "metadata": {},
   "outputs": [
    {
     "name": "stdout",
     "output_type": "stream",
     "text": [
      "[[1.         0.7855563  0.97792828]\n",
      " [0.7855563  1.         0.74056803]\n",
      " [0.97792828 0.74056803 1.        ]]\n",
      "英文是相關性最高的科目\n"
     ]
    }
   ],
   "source": [
    "x=np.vstack((english_score,new_math_score,chinese_score))\n",
    "print(np.corrcoef(x))\n",
    "print('英文是相關性最高的科目')"
   ]
  },
  {
   "cell_type": "code",
   "execution_count": null,
   "metadata": {},
   "outputs": [],
   "source": []
  }
 ],
 "metadata": {
  "kernelspec": {
   "display_name": "Python 3",
   "language": "python",
   "name": "python3"
  },
  "language_info": {
   "codemirror_mode": {
    "name": "ipython",
    "version": 3
   },
   "file_extension": ".py",
   "mimetype": "text/x-python",
   "name": "python",
   "nbconvert_exporter": "python",
   "pygments_lexer": "ipython3",
   "version": "3.8.5"
  }
 },
 "nbformat": 4,
 "nbformat_minor": 4
}
